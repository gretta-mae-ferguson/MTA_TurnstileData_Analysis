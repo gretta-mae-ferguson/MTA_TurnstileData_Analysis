{
 "cells": [
  {
   "cell_type": "code",
   "execution_count": 1,
   "metadata": {},
   "outputs": [],
   "source": [
    "import pandas as pd\n",
    "import numpy as np\n",
    "import seaborn as sns\n",
    "import matplotlib.pyplot as plt\n",
    "import datetime"
   ]
  },
  {
   "cell_type": "markdown",
   "metadata": {},
   "source": [
    "**Import Data**"
   ]
  },
  {
   "cell_type": "code",
   "execution_count": 2,
   "metadata": {},
   "outputs": [
    {
     "name": "stdout",
     "output_type": "stream",
     "text": [
      "Opening file turnstile_180310.txt\n",
      "Opening file turnstile_180317.txt\n",
      "Opening file turnstile_180324.txt\n",
      "Opening file turnstile_180331.txt\n",
      "Opening file turnstile_180407.txt\n",
      "Opening file turnstile_180414.txt\n",
      "Opening file turnstile_180421.txt\n",
      "Opening file turnstile_180428.txt\n",
      "Opening file turnstile_180505.txt\n",
      "Opening file turnstile_180512.txt\n",
      "Opening file turnstile_180519.txt\n",
      "Opening file turnstile_180526.txt\n",
      "Opening file turnstile_180602.txt\n",
      "Opening file turnstile_180609.txt\n"
     ]
    }
   ],
   "source": [
    "#import data (March'18-May'18) from MTA turnstile data (http://web.mta.info/developers/turnstile.html)\n",
    "SEARCH_TYPE = 'Spring'     # 'None' to suppress this cell\n",
    "if SEARCH_TYPE=='Spring':  # SMB: files sometimes don't load, so added try: below\n",
    "    TURNSTILE_PATH = 'http://web.mta.info/developers/data/nyct/turnstile/'\n",
    "    TURNSTILE_FILES = ['turnstile_180310','turnstile_180317','turnstile_180324','turnstile_180331',\n",
    "                      'turnstile_180407','turnstile_180414','turnstile_180421','turnstile_180428',\n",
    "                      'turnstile_180505','turnstile_180512','turnstile_180519','turnstile_180526',\n",
    "                       'turnstile_180602','turnstile_180609']\n",
    "    turnstile_files = [TURNSTILE_PATH + x + '.txt' for x in TURNSTILE_FILES]\n",
    "\n",
    "    tflist = []\n",
    "    for tf in turnstile_files:\n",
    "        print(f'Opening file {tf[-20:]}')\n",
    "        try:\n",
    "            df = pd.read_csv(tf, index_col=None, header=0)\n",
    "            tflist.append(df)\n",
    "        except:\n",
    "            print(f'  Trouble accessing file -> skipping.')\n",
    "    data_nyc_turnstile = pd.concat(tflist)\n",
    "    \n",
    "    #Clean dataframe to include only columns to be used in analysis\n",
    "    data_nyc_turnstile.columns = data_nyc_turnstile.columns.str.replace(' ', '')\n",
    "\n",
    "else:\n",
    "    print('MTA data not loaded; \"data_nyc_turnstiles\" was not refreshed.')"
   ]
  },
  {
   "cell_type": "code",
   "execution_count": 3,
   "metadata": {},
   "outputs": [
    {
     "data": {
      "text/html": [
       "<div>\n",
       "<style scoped>\n",
       "    .dataframe tbody tr th:only-of-type {\n",
       "        vertical-align: middle;\n",
       "    }\n",
       "\n",
       "    .dataframe tbody tr th {\n",
       "        vertical-align: top;\n",
       "    }\n",
       "\n",
       "    .dataframe thead th {\n",
       "        text-align: right;\n",
       "    }\n",
       "</style>\n",
       "<table border=\"1\" class=\"dataframe\">\n",
       "  <thead>\n",
       "    <tr style=\"text-align: right;\">\n",
       "      <th></th>\n",
       "      <th>C/A</th>\n",
       "      <th>UNIT</th>\n",
       "      <th>SCP</th>\n",
       "      <th>STATION</th>\n",
       "      <th>LINENAME</th>\n",
       "      <th>DIVISION</th>\n",
       "      <th>DATE</th>\n",
       "      <th>TIME</th>\n",
       "      <th>DESC</th>\n",
       "      <th>ENTRIES</th>\n",
       "      <th>EXITS</th>\n",
       "    </tr>\n",
       "  </thead>\n",
       "  <tbody>\n",
       "    <tr>\n",
       "      <th>0</th>\n",
       "      <td>A002</td>\n",
       "      <td>R051</td>\n",
       "      <td>02-00-00</td>\n",
       "      <td>59 ST</td>\n",
       "      <td>NQR456W</td>\n",
       "      <td>BMT</td>\n",
       "      <td>03/03/2018</td>\n",
       "      <td>03:00:00</td>\n",
       "      <td>REGULAR</td>\n",
       "      <td>6535802</td>\n",
       "      <td>2213345</td>\n",
       "    </tr>\n",
       "    <tr>\n",
       "      <th>1</th>\n",
       "      <td>A002</td>\n",
       "      <td>R051</td>\n",
       "      <td>02-00-00</td>\n",
       "      <td>59 ST</td>\n",
       "      <td>NQR456W</td>\n",
       "      <td>BMT</td>\n",
       "      <td>03/03/2018</td>\n",
       "      <td>07:00:00</td>\n",
       "      <td>REGULAR</td>\n",
       "      <td>6535813</td>\n",
       "      <td>2213356</td>\n",
       "    </tr>\n",
       "    <tr>\n",
       "      <th>2</th>\n",
       "      <td>A002</td>\n",
       "      <td>R051</td>\n",
       "      <td>02-00-00</td>\n",
       "      <td>59 ST</td>\n",
       "      <td>NQR456W</td>\n",
       "      <td>BMT</td>\n",
       "      <td>03/03/2018</td>\n",
       "      <td>11:00:00</td>\n",
       "      <td>REGULAR</td>\n",
       "      <td>6535865</td>\n",
       "      <td>2213436</td>\n",
       "    </tr>\n",
       "  </tbody>\n",
       "</table>\n",
       "</div>"
      ],
      "text/plain": [
       "    C/A  UNIT       SCP STATION LINENAME DIVISION        DATE      TIME  \\\n",
       "0  A002  R051  02-00-00   59 ST  NQR456W      BMT  03/03/2018  03:00:00   \n",
       "1  A002  R051  02-00-00   59 ST  NQR456W      BMT  03/03/2018  07:00:00   \n",
       "2  A002  R051  02-00-00   59 ST  NQR456W      BMT  03/03/2018  11:00:00   \n",
       "\n",
       "      DESC  ENTRIES    EXITS  \n",
       "0  REGULAR  6535802  2213345  \n",
       "1  REGULAR  6535813  2213356  \n",
       "2  REGULAR  6535865  2213436  "
      ]
     },
     "execution_count": 3,
     "metadata": {},
     "output_type": "execute_result"
    }
   ],
   "source": [
    "data_nyc_turnstile.head(3)"
   ]
  },
  {
   "cell_type": "markdown",
   "metadata": {},
   "source": [
    "**Data processing**"
   ]
  },
  {
   "cell_type": "code",
   "execution_count": 4,
   "metadata": {},
   "outputs": [
    {
     "data": {
      "text/html": [
       "<div>\n",
       "<style scoped>\n",
       "    .dataframe tbody tr th:only-of-type {\n",
       "        vertical-align: middle;\n",
       "    }\n",
       "\n",
       "    .dataframe tbody tr th {\n",
       "        vertical-align: top;\n",
       "    }\n",
       "\n",
       "    .dataframe thead th {\n",
       "        text-align: right;\n",
       "    }\n",
       "</style>\n",
       "<table border=\"1\" class=\"dataframe\">\n",
       "  <thead>\n",
       "    <tr style=\"text-align: right;\">\n",
       "      <th></th>\n",
       "      <th>C/A</th>\n",
       "      <th>UNIT</th>\n",
       "      <th>SCP</th>\n",
       "      <th>STATION</th>\n",
       "      <th>LINENAME</th>\n",
       "      <th>DIVISION</th>\n",
       "      <th>DATE</th>\n",
       "      <th>TIME</th>\n",
       "      <th>DESC</th>\n",
       "      <th>ENTRIES</th>\n",
       "      <th>EXITS</th>\n",
       "      <th>Datetime</th>\n",
       "      <th>Day</th>\n",
       "    </tr>\n",
       "  </thead>\n",
       "  <tbody>\n",
       "    <tr>\n",
       "      <th>0</th>\n",
       "      <td>A002</td>\n",
       "      <td>R051</td>\n",
       "      <td>02-00-00</td>\n",
       "      <td>59 ST</td>\n",
       "      <td>NQR456W</td>\n",
       "      <td>BMT</td>\n",
       "      <td>03/03/2018</td>\n",
       "      <td>03:00:00</td>\n",
       "      <td>REGULAR</td>\n",
       "      <td>6535802</td>\n",
       "      <td>2213345</td>\n",
       "      <td>2018-03-03 03:00:00</td>\n",
       "      <td>5</td>\n",
       "    </tr>\n",
       "    <tr>\n",
       "      <th>1</th>\n",
       "      <td>A002</td>\n",
       "      <td>R051</td>\n",
       "      <td>02-00-00</td>\n",
       "      <td>59 ST</td>\n",
       "      <td>NQR456W</td>\n",
       "      <td>BMT</td>\n",
       "      <td>03/03/2018</td>\n",
       "      <td>07:00:00</td>\n",
       "      <td>REGULAR</td>\n",
       "      <td>6535813</td>\n",
       "      <td>2213356</td>\n",
       "      <td>2018-03-03 07:00:00</td>\n",
       "      <td>5</td>\n",
       "    </tr>\n",
       "    <tr>\n",
       "      <th>2</th>\n",
       "      <td>A002</td>\n",
       "      <td>R051</td>\n",
       "      <td>02-00-00</td>\n",
       "      <td>59 ST</td>\n",
       "      <td>NQR456W</td>\n",
       "      <td>BMT</td>\n",
       "      <td>03/03/2018</td>\n",
       "      <td>11:00:00</td>\n",
       "      <td>REGULAR</td>\n",
       "      <td>6535865</td>\n",
       "      <td>2213436</td>\n",
       "      <td>2018-03-03 11:00:00</td>\n",
       "      <td>5</td>\n",
       "    </tr>\n",
       "  </tbody>\n",
       "</table>\n",
       "</div>"
      ],
      "text/plain": [
       "    C/A  UNIT       SCP STATION LINENAME DIVISION        DATE      TIME  \\\n",
       "0  A002  R051  02-00-00   59 ST  NQR456W      BMT  03/03/2018  03:00:00   \n",
       "1  A002  R051  02-00-00   59 ST  NQR456W      BMT  03/03/2018  07:00:00   \n",
       "2  A002  R051  02-00-00   59 ST  NQR456W      BMT  03/03/2018  11:00:00   \n",
       "\n",
       "      DESC  ENTRIES    EXITS            Datetime  Day  \n",
       "0  REGULAR  6535802  2213345 2018-03-03 03:00:00    5  \n",
       "1  REGULAR  6535813  2213356 2018-03-03 07:00:00    5  \n",
       "2  REGULAR  6535865  2213436 2018-03-03 11:00:00    5  "
      ]
     },
     "execution_count": 4,
     "metadata": {},
     "output_type": "execute_result"
    }
   ],
   "source": [
    "#Including column['Date_time'] for computing date-time series\n",
    "data_nyc_turnstile['Date_time'] = data_nyc_turnstile['DATE'] + ' ' + data_nyc_turnstile['TIME']\n",
    "\n",
    "#Converting ['Date_time'] to datetime64 series\n",
    "data_nyc_turnstile['Datetime'] = pd.to_datetime(data_nyc_turnstile['Date_time'], format=\"%m/%d/%Y %H:%M:%S\")\n",
    "data_nyc_turnstile.drop('Date_time', axis=1, inplace=True)\n",
    "\n",
    "#Adding ['Day of the week' in form of an integer]\n",
    "data_nyc_turnstile['Day'] = data_nyc_turnstile['Datetime'].dt.dayofweek\n",
    "\n",
    "data_nyc_turnstile.head(3)"
   ]
  },
  {
   "cell_type": "code",
   "execution_count": 5,
   "metadata": {},
   "outputs": [],
   "source": [
    "#Sorting data to calculate traffic for individual turnstile\n",
    "\n",
    "data_nyc_turnstile.sort_values(by=['STATION', 'UNIT', 'C/A', 'SCP', 'Datetime'], inplace=True)"
   ]
  },
  {
   "cell_type": "code",
   "execution_count": 6,
   "metadata": {},
   "outputs": [],
   "source": [
    "#Data in the columns 'Entries' and 'Exits' is cumulative.\n",
    "# Add 'Entry_diff' and 'Exit_diff' columns to track  increment\n",
    "\n",
    "data_nyc_turnstile['Entry_diff'] = (data_nyc_turnstile.groupby(['STATION', 'UNIT', 'C/A', 'SCP'])['ENTRIES']\n",
    "                           .diff(periods=-1)) * -1\n",
    "\n",
    "data_nyc_turnstile['Exit_diff']=(data_nyc_turnstile.groupby(['STATION', 'UNIT', 'C/A', 'SCP'])['EXITS']\n",
    "                           .diff(periods=-1)) * -1\n",
    "\n"
   ]
  },
  {
   "cell_type": "code",
   "execution_count": 17,
   "metadata": {},
   "outputs": [],
   "source": [
    "#Filtering out outliers and negative values\n",
    "\n",
    "data_nyc_turnstile = data_nyc_turnstile[(data_nyc_turnstile['Entry_diff'] >= 0)\n",
    "                & (data_nyc_turnstile['Entry_diff'] < 100000)\n",
    "                & (data_nyc_turnstile['Exit_diff'] >= 0)\n",
    "                & (data_nyc_turnstile['Exit_diff'] < 100000)\n",
    "                & (data_nyc_turnstile['Day'] < 5)]\n"
   ]
  },
  {
   "cell_type": "code",
   "execution_count": 18,
   "metadata": {},
   "outputs": [],
   "source": [
    "#Adding 'Total_Traffic' to represent total traffic at each station\n",
    "\n",
    "data_nyc_turnstile['Total_Traffic']=data_nyc_turnstile['Entry_diff']+data_nyc_turnstile['Exit_diff']"
   ]
  },
  {
   "cell_type": "code",
   "execution_count": 19,
   "metadata": {},
   "outputs": [
    {
     "data": {
      "text/html": [
       "<div>\n",
       "<style scoped>\n",
       "    .dataframe tbody tr th:only-of-type {\n",
       "        vertical-align: middle;\n",
       "    }\n",
       "\n",
       "    .dataframe tbody tr th {\n",
       "        vertical-align: top;\n",
       "    }\n",
       "\n",
       "    .dataframe thead th {\n",
       "        text-align: right;\n",
       "    }\n",
       "</style>\n",
       "<table border=\"1\" class=\"dataframe\">\n",
       "  <thead>\n",
       "    <tr style=\"text-align: right;\">\n",
       "      <th></th>\n",
       "      <th>C/A</th>\n",
       "      <th>UNIT</th>\n",
       "      <th>SCP</th>\n",
       "      <th>STATION</th>\n",
       "      <th>LINENAME</th>\n",
       "      <th>DIVISION</th>\n",
       "      <th>DATE</th>\n",
       "      <th>TIME</th>\n",
       "      <th>DESC</th>\n",
       "      <th>ENTRIES</th>\n",
       "      <th>EXITS</th>\n",
       "      <th>Datetime</th>\n",
       "      <th>Day</th>\n",
       "      <th>Entry_diff</th>\n",
       "      <th>Exit_diff</th>\n",
       "      <th>Total_Traffic</th>\n",
       "    </tr>\n",
       "  </thead>\n",
       "  <tbody>\n",
       "    <tr>\n",
       "      <th>30354</th>\n",
       "      <td>H007</td>\n",
       "      <td>R248</td>\n",
       "      <td>00-00-00</td>\n",
       "      <td>1 AV</td>\n",
       "      <td>L</td>\n",
       "      <td>BMT</td>\n",
       "      <td>03/05/2018</td>\n",
       "      <td>03:00:00</td>\n",
       "      <td>REGULAR</td>\n",
       "      <td>13276975</td>\n",
       "      <td>14832142</td>\n",
       "      <td>2018-03-05 03:00:00</td>\n",
       "      <td>0</td>\n",
       "      <td>113.0</td>\n",
       "      <td>384.0</td>\n",
       "      <td>497.0</td>\n",
       "    </tr>\n",
       "    <tr>\n",
       "      <th>30355</th>\n",
       "      <td>H007</td>\n",
       "      <td>R248</td>\n",
       "      <td>00-00-00</td>\n",
       "      <td>1 AV</td>\n",
       "      <td>L</td>\n",
       "      <td>BMT</td>\n",
       "      <td>03/05/2018</td>\n",
       "      <td>07:00:00</td>\n",
       "      <td>REGULAR</td>\n",
       "      <td>13277088</td>\n",
       "      <td>14832526</td>\n",
       "      <td>2018-03-05 07:00:00</td>\n",
       "      <td>0</td>\n",
       "      <td>1439.0</td>\n",
       "      <td>1477.0</td>\n",
       "      <td>2916.0</td>\n",
       "    </tr>\n",
       "    <tr>\n",
       "      <th>30356</th>\n",
       "      <td>H007</td>\n",
       "      <td>R248</td>\n",
       "      <td>00-00-00</td>\n",
       "      <td>1 AV</td>\n",
       "      <td>L</td>\n",
       "      <td>BMT</td>\n",
       "      <td>03/05/2018</td>\n",
       "      <td>11:00:00</td>\n",
       "      <td>REGULAR</td>\n",
       "      <td>13278527</td>\n",
       "      <td>14834003</td>\n",
       "      <td>2018-03-05 11:00:00</td>\n",
       "      <td>0</td>\n",
       "      <td>704.0</td>\n",
       "      <td>857.0</td>\n",
       "      <td>1561.0</td>\n",
       "    </tr>\n",
       "    <tr>\n",
       "      <th>30357</th>\n",
       "      <td>H007</td>\n",
       "      <td>R248</td>\n",
       "      <td>00-00-00</td>\n",
       "      <td>1 AV</td>\n",
       "      <td>L</td>\n",
       "      <td>BMT</td>\n",
       "      <td>03/05/2018</td>\n",
       "      <td>15:00:00</td>\n",
       "      <td>REGULAR</td>\n",
       "      <td>13279231</td>\n",
       "      <td>14834860</td>\n",
       "      <td>2018-03-05 15:00:00</td>\n",
       "      <td>0</td>\n",
       "      <td>1308.0</td>\n",
       "      <td>844.0</td>\n",
       "      <td>2152.0</td>\n",
       "    </tr>\n",
       "    <tr>\n",
       "      <th>30358</th>\n",
       "      <td>H007</td>\n",
       "      <td>R248</td>\n",
       "      <td>00-00-00</td>\n",
       "      <td>1 AV</td>\n",
       "      <td>L</td>\n",
       "      <td>BMT</td>\n",
       "      <td>03/05/2018</td>\n",
       "      <td>19:00:00</td>\n",
       "      <td>REGULAR</td>\n",
       "      <td>13280539</td>\n",
       "      <td>14835704</td>\n",
       "      <td>2018-03-05 19:00:00</td>\n",
       "      <td>0</td>\n",
       "      <td>496.0</td>\n",
       "      <td>556.0</td>\n",
       "      <td>1052.0</td>\n",
       "    </tr>\n",
       "  </tbody>\n",
       "</table>\n",
       "</div>"
      ],
      "text/plain": [
       "        C/A  UNIT       SCP STATION LINENAME DIVISION        DATE      TIME  \\\n",
       "30354  H007  R248  00-00-00    1 AV        L      BMT  03/05/2018  03:00:00   \n",
       "30355  H007  R248  00-00-00    1 AV        L      BMT  03/05/2018  07:00:00   \n",
       "30356  H007  R248  00-00-00    1 AV        L      BMT  03/05/2018  11:00:00   \n",
       "30357  H007  R248  00-00-00    1 AV        L      BMT  03/05/2018  15:00:00   \n",
       "30358  H007  R248  00-00-00    1 AV        L      BMT  03/05/2018  19:00:00   \n",
       "\n",
       "          DESC   ENTRIES     EXITS            Datetime  Day  Entry_diff  \\\n",
       "30354  REGULAR  13276975  14832142 2018-03-05 03:00:00    0       113.0   \n",
       "30355  REGULAR  13277088  14832526 2018-03-05 07:00:00    0      1439.0   \n",
       "30356  REGULAR  13278527  14834003 2018-03-05 11:00:00    0       704.0   \n",
       "30357  REGULAR  13279231  14834860 2018-03-05 15:00:00    0      1308.0   \n",
       "30358  REGULAR  13280539  14835704 2018-03-05 19:00:00    0       496.0   \n",
       "\n",
       "       Exit_diff  Total_Traffic  \n",
       "30354      384.0          497.0  \n",
       "30355     1477.0         2916.0  \n",
       "30356      857.0         1561.0  \n",
       "30357      844.0         2152.0  \n",
       "30358      556.0         1052.0  "
      ]
     },
     "execution_count": 19,
     "metadata": {},
     "output_type": "execute_result"
    }
   ],
   "source": [
    "data_nyc_turnstile.head()"
   ]
  },
  {
   "cell_type": "markdown",
   "metadata": {},
   "source": [
    "**Data Sorting**\n"
   ]
  },
  {
   "cell_type": "code",
   "execution_count": 14,
   "metadata": {},
   "outputs": [
    {
     "data": {
      "text/html": [
       "<div>\n",
       "<style scoped>\n",
       "    .dataframe tbody tr th:only-of-type {\n",
       "        vertical-align: middle;\n",
       "    }\n",
       "\n",
       "    .dataframe tbody tr th {\n",
       "        vertical-align: top;\n",
       "    }\n",
       "\n",
       "    .dataframe thead th {\n",
       "        text-align: right;\n",
       "    }\n",
       "</style>\n",
       "<table border=\"1\" class=\"dataframe\">\n",
       "  <thead>\n",
       "    <tr style=\"text-align: right;\">\n",
       "      <th></th>\n",
       "      <th>ENTRIES</th>\n",
       "      <th>EXITS</th>\n",
       "      <th>Day</th>\n",
       "      <th>Entry_diff</th>\n",
       "      <th>Exit_diff</th>\n",
       "      <th>Total_Traffic</th>\n",
       "      <th>Station_ID</th>\n",
       "    </tr>\n",
       "    <tr>\n",
       "      <th>Idx</th>\n",
       "      <th></th>\n",
       "      <th></th>\n",
       "      <th></th>\n",
       "      <th></th>\n",
       "      <th></th>\n",
       "      <th></th>\n",
       "      <th></th>\n",
       "    </tr>\n",
       "  </thead>\n",
       "  <tbody>\n",
       "    <tr>\n",
       "      <th>0</th>\n",
       "      <td>1673902920723</td>\n",
       "      <td>1238061680127</td>\n",
       "      <td>82225</td>\n",
       "      <td>11716574.0</td>\n",
       "      <td>9939732.0</td>\n",
       "      <td>21656306.0</td>\n",
       "      <td>34 ST-PENN STA</td>\n",
       "    </tr>\n",
       "    <tr>\n",
       "      <th>1</th>\n",
       "      <td>430097080120</td>\n",
       "      <td>403263379569</td>\n",
       "      <td>53637</td>\n",
       "      <td>10621837.0</td>\n",
       "      <td>9485906.0</td>\n",
       "      <td>20107743.0</td>\n",
       "      <td>GRD CNTRL-42 ST</td>\n",
       "    </tr>\n",
       "    <tr>\n",
       "      <th>2</th>\n",
       "      <td>712164843413</td>\n",
       "      <td>649357132679</td>\n",
       "      <td>42704</td>\n",
       "      <td>7914560.0</td>\n",
       "      <td>7280717.0</td>\n",
       "      <td>15195277.0</td>\n",
       "      <td>34 ST-HERALD SQ</td>\n",
       "    </tr>\n",
       "  </tbody>\n",
       "</table>\n",
       "</div>"
      ],
      "text/plain": [
       "           ENTRIES          EXITS    Day  Entry_diff  Exit_diff  \\\n",
       "Idx                                                               \n",
       "0    1673902920723  1238061680127  82225  11716574.0  9939732.0   \n",
       "1     430097080120   403263379569  53637  10621837.0  9485906.0   \n",
       "2     712164843413   649357132679  42704   7914560.0  7280717.0   \n",
       "\n",
       "     Total_Traffic       Station_ID  \n",
       "Idx                                  \n",
       "0       21656306.0   34 ST-PENN STA  \n",
       "1       20107743.0  GRD CNTRL-42 ST  \n",
       "2       15195277.0  34 ST-HERALD SQ  "
      ]
     },
     "execution_count": 14,
     "metadata": {},
     "output_type": "execute_result"
    }
   ],
   "source": [
    "## Sorting data by Station \n",
    "\n",
    "station_data = data_nyc_turnstile.groupby(['STATION']).sum()\n",
    "station_data['Station_ID'] = station_data.index\n",
    "station_data = station_data.sort_values(['Total_Traffic'],ascending=False)\n",
    "station_data['Idx'] = np.arange(station_data.shape[0]) \n",
    "station_data = station_data.set_index('Idx')\n",
    "station_data.head(3)"
   ]
  },
  {
   "cell_type": "markdown",
   "metadata": {},
   "source": [
    "**Plotting Data**"
   ]
  },
  {
   "cell_type": "code",
   "execution_count": 15,
   "metadata": {},
   "outputs": [],
   "source": [
    "\n",
    "import seaborn as sns\n",
    "sns.set_style(\"whitegrid\")\n",
    "\n",
    "##Limiting our analysis to top 15 busiest stations\n",
    "\n",
    "station_data = station_data.iloc[:15,:]"
   ]
  },
  {
   "cell_type": "code",
   "execution_count": 21,
   "metadata": {},
   "outputs": [
    {
     "data": {
      "text/plain": [
       "Text(0.5,1,'Top 15 busiest stations')"
      ]
     },
     "execution_count": 21,
     "metadata": {},
     "output_type": "execute_result"
    },
    {
     "data": {
      "image/png": "[encoded data removed]",
      "text/plain": [
       "<Figure size 432x288 with 1 Axes>"
      ]
     },
     "metadata": {},
     "output_type": "display_data"
    }
   ],
   "source": [
    "# Verify results: check http://web.mta.info/nyct/facts/ffsubway.htm\n",
    "\n",
    "sns_plot = sns.barplot(x=\"Total_Traffic\", y='Station_ID', data=station_data)\n",
    "fig = sns_plot.get_figure()\n",
    "plt.xlabel(\"Total Traffic (10 million)\")\n",
    "plt.ylabel(\"Stations\")\n",
    "plt.title(\"Top 15 busiest stations\")\n"
   ]
  },
  {
   "cell_type": "code",
   "execution_count": 25,
   "metadata": {},
   "outputs": [
    {
     "data": {
      "text/html": [
       "<div>\n",
       "<style scoped>\n",
       "    .dataframe tbody tr th:only-of-type {\n",
       "        vertical-align: middle;\n",
       "    }\n",
       "\n",
       "    .dataframe tbody tr th {\n",
       "        vertical-align: top;\n",
       "    }\n",
       "\n",
       "    .dataframe thead th {\n",
       "        text-align: right;\n",
       "    }\n",
       "</style>\n",
       "<table border=\"1\" class=\"dataframe\">\n",
       "  <thead>\n",
       "    <tr style=\"text-align: right;\">\n",
       "      <th></th>\n",
       "      <th>STATION</th>\n",
       "      <th>Day</th>\n",
       "      <th>ENTRIES</th>\n",
       "      <th>EXITS</th>\n",
       "      <th>Entry_diff</th>\n",
       "      <th>Exit_diff</th>\n",
       "      <th>Total_Traffic</th>\n",
       "    </tr>\n",
       "  </thead>\n",
       "  <tbody>\n",
       "    <tr>\n",
       "      <th>0</th>\n",
       "      <td>1 AV</td>\n",
       "      <td>0</td>\n",
       "      <td>252478467391</td>\n",
       "      <td>135259474380</td>\n",
       "      <td>287848.0</td>\n",
       "      <td>314692.0</td>\n",
       "      <td>602540.0</td>\n",
       "    </tr>\n",
       "    <tr>\n",
       "      <th>1</th>\n",
       "      <td>1 AV</td>\n",
       "      <td>1</td>\n",
       "      <td>255066163610</td>\n",
       "      <td>136444838964</td>\n",
       "      <td>308181.0</td>\n",
       "      <td>341547.0</td>\n",
       "      <td>649728.0</td>\n",
       "    </tr>\n",
       "    <tr>\n",
       "      <th>2</th>\n",
       "      <td>1 AV</td>\n",
       "      <td>2</td>\n",
       "      <td>258556576049</td>\n",
       "      <td>138513599055</td>\n",
       "      <td>307204.0</td>\n",
       "      <td>331466.0</td>\n",
       "      <td>638670.0</td>\n",
       "    </tr>\n",
       "  </tbody>\n",
       "</table>\n",
       "</div>"
      ],
      "text/plain": [
       "  STATION  Day       ENTRIES         EXITS  Entry_diff  Exit_diff  \\\n",
       "0    1 AV    0  252478467391  135259474380    287848.0   314692.0   \n",
       "1    1 AV    1  255066163610  136444838964    308181.0   341547.0   \n",
       "2    1 AV    2  258556576049  138513599055    307204.0   331466.0   \n",
       "\n",
       "   Total_Traffic  \n",
       "0       602540.0  \n",
       "1       649728.0  \n",
       "2       638670.0  "
      ]
     },
     "execution_count": 25,
     "metadata": {},
     "output_type": "execute_result"
    }
   ],
   "source": [
    "#Sorting data to find the 'Total_Traffic at each station by 'day of the week'. \n",
    "\n",
    "station_data_date=data_nyc_turnstile.groupby(['STATION','Day']).sum()\n",
    "station_data_date.reset_index(inplace=True)\n",
    "\n",
    "station_data_date.head(3)"
   ]
  },
  {
   "cell_type": "markdown",
   "metadata": {},
   "source": [
    "**Top Busiest Station:PENN Station**"
   ]
  },
  {
   "cell_type": "code",
   "execution_count": 30,
   "metadata": {},
   "outputs": [
    {
     "data": {
      "text/plain": [
       "Text(0,0.5,'Total Traffic')"
      ]
     },
     "execution_count": 30,
     "metadata": {},
     "output_type": "execute_result"
    },
    {
     "data": {
      "image/png": "[encoded data removed]",
      "text/plain": [
       "<Figure size 432x288 with 1 Axes>"
      ]
     },
     "metadata": {},
     "output_type": "display_data"
    }
   ],
   "source": [
    "# Graphing activity by day at 34 ST PENN ST (busiest station)\n",
    "\n",
    "penn_data = station_data_date[station_data_date['STATION'] =='34 ST-PENN STA'] \n",
    "\n",
    "penn_data.head()\n",
    "y = penn_data['Total_Traffic']\n",
    "x = penn_data['Day']\n",
    "\n",
    "plt.plot(x,y)\n",
    "plt.title(\"34 TH ST STATION\",fontsize=14,weight='bold')\n",
    "plt.xlabel('Day in integer form', fontsize=12, weight='bold')\n",
    "plt.ylabel('Total Traffic', fontsize=12,weight='bold')\n",
    "\n"
   ]
  },
  {
   "cell_type": "markdown",
   "metadata": {},
   "source": [
    "**GRD CNTRL-42 Station**"
   ]
  },
  {
   "cell_type": "code",
   "execution_count": 31,
   "metadata": {},
   "outputs": [
    {
     "data": {
      "text/plain": [
       "Text(0,0.5,'Total Traffic')"
      ]
     },
     "execution_count": 31,
     "metadata": {},
     "output_type": "execute_result"
    },
    {
     "data": {
      "image/png": "[encoded data removed]",
      "text/plain": [
       "<Figure size 432x288 with 1 Axes>"
      ]
     },
     "metadata": {},
     "output_type": "display_data"
    }
   ],
   "source": [
    "# Graphing activity by day at GRD CNTRL-42 ST \n",
    "\n",
    "grand_central_data = station_data_date[station_data_date['STATION'] =='GRD CNTRL-42 ST'] \n",
    "y = grand_central_data['Total_Traffic']\n",
    "x = grand_central_data['Day']\n",
    "\n",
    "plt.plot(x,y)\n",
    "\n",
    "plt.title(\"GRD CNTRL-42 ST\",fontsize=14,weight='bold')\n",
    "plt.xlabel('Day in form of integer', fontsize=12,weight='bold')\n",
    "plt.ylabel('Total Traffic', fontsize=12,weight='bold')\n"
   ]
  },
  {
   "cell_type": "markdown",
   "metadata": {},
   "source": [
    "**34 ST-HERALD SQ Station**"
   ]
  },
  {
   "cell_type": "code",
   "execution_count": 32,
   "metadata": {},
   "outputs": [
    {
     "data": {
      "text/plain": [
       "Text(0,0.5,'Total Traffic')"
      ]
     },
     "execution_count": 32,
     "metadata": {},
     "output_type": "execute_result"
    },
    {
     "data": {
      "image/png": "[encoded data removed]",
      "text/plain": [
       "<Figure size 432x288 with 1 Axes>"
      ]
     },
     "metadata": {},
     "output_type": "display_data"
    }
   ],
   "source": [
    "# Graphing activity by day at 34 ST-HERALD SQ \n",
    "grand_central_data = station_data_date[station_data_date['STATION'] =='34 ST-HERALD SQ'] \n",
    "\n",
    "y = grand_central_data['Total_Traffic']\n",
    "x = grand_central_data['Day']\n",
    "\n",
    "plt.plot(x,y)\n",
    "\n",
    "plt.title(\"34 ST-HERALD SQ \",fontsize=14,weight='bold')\n",
    "plt.xlabel('Day in form of integer', fontsize=12,weight='bold')\n",
    "plt.ylabel('Total Traffic', fontsize=12)\n"
   ]
  }
 ],
 "metadata": {
  "kernelspec": {
   "display_name": "Python 3",
   "language": "python",
   "name": "python3"
  },
  "language_info": {
   "codemirror_mode": {
    "name": "ipython",
    "version": 3
   },
   "file_extension": ".py",
   "mimetype": "text/x-python",
   "name": "python",
   "nbconvert_exporter": "python",
   "pygments_lexer": "ipython3",
   "version": "3.6.5"
  }
 },
 "nbformat": 4,
 "nbformat_minor": 2
}
